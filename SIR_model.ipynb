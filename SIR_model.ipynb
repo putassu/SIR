{
 "cells": [
  {
   "cell_type": "code",
   "execution_count": 1,
   "metadata": {},
   "outputs": [],
   "source": [
    "import numpy as np\n",
    "import math\n",
    "import pandas as pd\n",
    "import pythran"
   ]
  },
  {
   "cell_type": "code",
   "execution_count": 2,
   "metadata": {},
   "outputs": [
    {
     "name": "stdout",
     "output_type": "stream",
     "text": [
      "Writing .pythranrc\n"
     ]
    }
   ],
   "source": [
    "%%writefile .pythranrc\n",
    "[compiler]\n",
    "include_dirs=/usr/include/openblas"
   ]
  },
  {
   "cell_type": "code",
   "execution_count": 3,
   "metadata": {},
   "outputs": [],
   "source": [
    "%load_ext pythran.magic"
   ]
  },
  {
   "cell_type": "code",
   "execution_count": 36,
   "metadata": {},
   "outputs": [],
   "source": [
    "np.random.seed(180)"
   ]
  },
  {
   "cell_type": "code",
   "execution_count": 37,
   "metadata": {},
   "outputs": [],
   "source": [
    "def sir(u,parms,t):\n",
    "    bet,gamm,iota,N,dt=parms\n",
    "    S,I,R,Y=u\n",
    "    lambd = bet*(I+iota)/N\n",
    "    ifrac = 1.0 - math.exp(-lambd*dt)\n",
    "    rfrac = 1.0 - math.exp(-gamm*dt)\n",
    "    infection = np.random.binomial(S,ifrac)\n",
    "    recovery = np.random.binomial(I,rfrac)\n",
    "    return [S-infection,I+infection-recovery,R+recovery,Y+infection]\n",
    "\n",
    "def simulate():\n",
    "    parms = [0.1, 0.05, 0.01, 1000.0, 0.1]\n",
    "    tf = 200\n",
    "    tl = 2001\n",
    "    t = np.linspace(0,tf,tl)\n",
    "    S = np.zeros(tl)\n",
    "    I = np.zeros(tl)\n",
    "    R = np.zeros(tl)\n",
    "    Y = np.zeros(tl)\n",
    "    u = [999,1,0,0]\n",
    "    S[0],I[0],R[0],Y[0] = u\n",
    "    for j in range(1,tl):\n",
    "        u = sir(u,parms,t[j])\n",
    "        S[j],I[j],R[j],Y[j] = u\n",
    "    return {'t':t,'S':S,'I':I,'R':R,'Y':Y}"
   ]
  },
  {
   "cell_type": "code",
   "execution_count": 38,
   "metadata": {},
   "outputs": [
    {
     "name": "stdout",
     "output_type": "stream",
     "text": [
      "41.5 ms ± 2.81 ms per loop (mean ± std. dev. of 7 runs, 10 loops each)\n"
     ]
    }
   ],
   "source": [
    "%timeit simulate()"
   ]
  },
  {
   "cell_type": "code",
   "execution_count": 39,
   "metadata": {},
   "outputs": [
    {
     "data": {
      "text/html": [
       "<div>\n",
       "<style scoped>\n",
       "    .dataframe tbody tr th:only-of-type {\n",
       "        vertical-align: middle;\n",
       "    }\n",
       "\n",
       "    .dataframe tbody tr th {\n",
       "        vertical-align: top;\n",
       "    }\n",
       "\n",
       "    .dataframe thead th {\n",
       "        text-align: right;\n",
       "    }\n",
       "</style>\n",
       "<table border=\"1\" class=\"dataframe\">\n",
       "  <thead>\n",
       "    <tr style=\"text-align: right;\">\n",
       "      <th></th>\n",
       "      <th>t</th>\n",
       "      <th>S</th>\n",
       "      <th>I</th>\n",
       "      <th>R</th>\n",
       "      <th>Y</th>\n",
       "    </tr>\n",
       "  </thead>\n",
       "  <tbody>\n",
       "    <tr>\n",
       "      <th>0</th>\n",
       "      <td>0.0</td>\n",
       "      <td>999.0</td>\n",
       "      <td>1.0</td>\n",
       "      <td>0.0</td>\n",
       "      <td>0.0</td>\n",
       "    </tr>\n",
       "    <tr>\n",
       "      <th>1</th>\n",
       "      <td>0.1</td>\n",
       "      <td>999.0</td>\n",
       "      <td>1.0</td>\n",
       "      <td>0.0</td>\n",
       "      <td>0.0</td>\n",
       "    </tr>\n",
       "    <tr>\n",
       "      <th>2</th>\n",
       "      <td>0.2</td>\n",
       "      <td>999.0</td>\n",
       "      <td>1.0</td>\n",
       "      <td>0.0</td>\n",
       "      <td>0.0</td>\n",
       "    </tr>\n",
       "    <tr>\n",
       "      <th>3</th>\n",
       "      <td>0.3</td>\n",
       "      <td>999.0</td>\n",
       "      <td>1.0</td>\n",
       "      <td>0.0</td>\n",
       "      <td>0.0</td>\n",
       "    </tr>\n",
       "    <tr>\n",
       "      <th>4</th>\n",
       "      <td>0.4</td>\n",
       "      <td>999.0</td>\n",
       "      <td>1.0</td>\n",
       "      <td>0.0</td>\n",
       "      <td>0.0</td>\n",
       "    </tr>\n",
       "    <tr>\n",
       "      <th>...</th>\n",
       "      <td>...</td>\n",
       "      <td>...</td>\n",
       "      <td>...</td>\n",
       "      <td>...</td>\n",
       "      <td>...</td>\n",
       "    </tr>\n",
       "    <tr>\n",
       "      <th>1996</th>\n",
       "      <td>199.6</td>\n",
       "      <td>200.0</td>\n",
       "      <td>41.0</td>\n",
       "      <td>759.0</td>\n",
       "      <td>799.0</td>\n",
       "    </tr>\n",
       "    <tr>\n",
       "      <th>1997</th>\n",
       "      <td>199.7</td>\n",
       "      <td>200.0</td>\n",
       "      <td>41.0</td>\n",
       "      <td>759.0</td>\n",
       "      <td>799.0</td>\n",
       "    </tr>\n",
       "    <tr>\n",
       "      <th>1998</th>\n",
       "      <td>199.8</td>\n",
       "      <td>200.0</td>\n",
       "      <td>41.0</td>\n",
       "      <td>759.0</td>\n",
       "      <td>799.0</td>\n",
       "    </tr>\n",
       "    <tr>\n",
       "      <th>1999</th>\n",
       "      <td>199.9</td>\n",
       "      <td>200.0</td>\n",
       "      <td>41.0</td>\n",
       "      <td>759.0</td>\n",
       "      <td>799.0</td>\n",
       "    </tr>\n",
       "    <tr>\n",
       "      <th>2000</th>\n",
       "      <td>200.0</td>\n",
       "      <td>200.0</td>\n",
       "      <td>41.0</td>\n",
       "      <td>759.0</td>\n",
       "      <td>799.0</td>\n",
       "    </tr>\n",
       "  </tbody>\n",
       "</table>\n",
       "<p>2001 rows × 5 columns</p>\n",
       "</div>"
      ],
      "text/plain": [
       "          t      S     I      R      Y\n",
       "0       0.0  999.0   1.0    0.0    0.0\n",
       "1       0.1  999.0   1.0    0.0    0.0\n",
       "2       0.2  999.0   1.0    0.0    0.0\n",
       "3       0.3  999.0   1.0    0.0    0.0\n",
       "4       0.4  999.0   1.0    0.0    0.0\n",
       "...     ...    ...   ...    ...    ...\n",
       "1996  199.6  200.0  41.0  759.0  799.0\n",
       "1997  199.7  200.0  41.0  759.0  799.0\n",
       "1998  199.8  200.0  41.0  759.0  799.0\n",
       "1999  199.9  200.0  41.0  759.0  799.0\n",
       "2000  200.0  200.0  41.0  759.0  799.0\n",
       "\n",
       "[2001 rows x 5 columns]"
      ]
     },
     "execution_count": 39,
     "metadata": {},
     "output_type": "execute_result"
    }
   ],
   "source": [
    "sir_out = pd.DataFrame(simulate())\n",
    "sir_out"
   ]
  },
  {
   "cell_type": "code",
   "execution_count": 40,
   "metadata": {},
   "outputs": [],
   "source": [
    "import matplotlib.pyplot as plt"
   ]
  },
  {
   "cell_type": "code",
   "execution_count": 41,
   "metadata": {},
   "outputs": [],
   "source": [
    "plt.style.use(\"ggplot\")"
   ]
  },
  {
   "cell_type": "code",
   "execution_count": 42,
   "metadata": {},
   "outputs": [
    {
     "data": {
      "image/png": "[encoded data removed]",
      "text/plain": [
       "<Figure size 432x288 with 1 Axes>"
      ]
     },
     "metadata": {},
     "output_type": "display_data"
    }
   ],
   "source": [
    "sline = plt.plot(\"t\",\"S\",\"\",data=sir_out,color=\"red\",linewidth=2)\n",
    "iline = plt.plot(\"t\",\"I\",\"\",data=sir_out,color=\"green\",linewidth=2)\n",
    "rline = plt.plot(\"t\",\"R\",\"\",data=sir_out,color=\"blue\",linewidth=2)\n",
    "plt.xlabel(\"Time\",fontweight=\"bold\")\n",
    "plt.ylabel(\"Number\",fontweight=\"bold\")\n",
    "legend = plt.legend(title=\"Population\",loc=5,bbox_to_anchor=(1.25,0.5))\n",
    "frame = legend.get_frame()\n",
    "frame.set_facecolor(\"white\")\n",
    "frame.set_linewidth(0)"
   ]
  },
  {
   "cell_type": "code",
   "execution_count": null,
   "metadata": {},
   "outputs": [],
   "source": []
  }
 ],
 "metadata": {
  "kernelspec": {
   "display_name": "Python 3",
   "language": "python",
   "name": "python3"
  },
  "language_info": {
   "codemirror_mode": {
    "name": "ipython",
    "version": 3
   },
   "file_extension": ".py",
   "mimetype": "text/x-python",
   "name": "python",
   "nbconvert_exporter": "python",
   "pygments_lexer": "ipython3",
   "version": "3.8.2"
  }
 },
 "nbformat": 4,
 "nbformat_minor": 4
}
